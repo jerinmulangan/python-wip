{
 "cells": [
  {
   "cell_type": "code",
   "execution_count": null,
   "id": "53bc79e6-8ca5-449b-99ab-645ef4495ff8",
   "metadata": {},
   "outputs": [],
   "source": [
    "# !pip install faker"
   ]
  },
  {
   "cell_type": "code",
   "execution_count": null,
   "id": "81db6f28-29c0-4a01-a6e0-7165f7033b74",
   "metadata": {},
   "outputs": [],
   "source": [
    "# !pip install pymysql"
   ]
  },
  {
   "cell_type": "code",
   "execution_count": 1,
   "id": "4e7124ff-e40e-432f-9d5f-fd0caff01b6c",
   "metadata": {},
   "outputs": [],
   "source": [
    "import random\n",
    "import pymysql\n",
    "from faker import Faker\n",
    "\n",
    "fake = Faker()"
   ]
  },
  {
   "cell_type": "code",
   "execution_count": 2,
   "id": "b57bf2d3-49d9-460a-aab3-6ae3c793ef38",
   "metadata": {},
   "outputs": [
    {
     "name": "stdout",
     "output_type": "stream",
     "text": [
      "-- INSERT INTO PERSON Table\n",
      "✅ Fake data inserted into Person table successfully!\n"
     ]
    }
   ],
   "source": [
    "# Connect to MySQL database\n",
    "conn = pymysql.connect(\n",
    "    host='127.0.0.1',\n",
    "    user='assign1part2',\n",
    "    password='university123',\n",
    "    database='university123'\n",
    ")\n",
    "cursor = conn.cursor()\n",
    "num_person = 100\n",
    "\n",
    "# Generate PERSON records\n",
    "print(\"-- INSERT INTO PERSON Table\")\n",
    "\n",
    "# Example: Insert fake students into 'student' table\n",
    "for _ in range(num_person):  \n",
    "    fname = fake.first_name()\n",
    "    minit = fake.random_letter().upper()\n",
    "    lname = fake.last_name()\n",
    "    bdate = fake.date_of_birth(minimum_age=18, maximum_age=70).strftime('%Y-%m-%d')  # Convert date to string\n",
    "    gender = random.choice(['M', 'F'])\n",
    "    street = fake.street_address()\n",
    "    apt_no = random.randint(100, 999)\n",
    "    city = fake.city()\n",
    "    state = fake.state_abbr()\n",
    "    zip_code = fake.zipcode()\n",
    "\n",
    "    sql = \"\"\"\n",
    "        INSERT INTO PERSON (Fname, Minit, Lname, Bdate, Gender, Street, Apt_no, City, State, Zip) \n",
    "        VALUES (%s, %s, %s, %s, %s, %s, %s, %s, %s, %s)\n",
    "    \"\"\"\n",
    "    values = (fname, minit, lname, bdate, gender, street, apt_no, city, state, zip_code)\n",
    "\n",
    "    cursor.execute(sql, values)\n",
    "\n",
    "# Commit and close connection\n",
    "conn.commit()\n",
    "print(\"✅ Fake data inserted into Person table successfully!\")\n",
    "\n",
    "cursor.close()\n",
    "conn.close()"
   ]
  },
  {
   "cell_type": "code",
   "execution_count": 3,
   "id": "ff00281e-1fa8-484a-b428-1234691af2e6",
   "metadata": {},
   "outputs": [
    {
     "ename": "Error",
     "evalue": "Already closed",
     "output_type": "error",
     "traceback": [
      "\u001b[1;31m---------------------------------------------------------------------------\u001b[0m",
      "\u001b[1;31mError\u001b[0m                                     Traceback (most recent call last)",
      "Cell \u001b[1;32mIn[3], line 2\u001b[0m\n\u001b[0;32m      1\u001b[0m cursor\u001b[38;5;241m.\u001b[39mclose()\n\u001b[1;32m----> 2\u001b[0m conn\u001b[38;5;241m.\u001b[39mclose()\n",
      "File \u001b[1;32mc:\\Users\\jerin\\anaconda3\\envs\\py312\\Lib\\site-packages\\pymysql\\connections.py:404\u001b[0m, in \u001b[0;36mConnection.close\u001b[1;34m(self)\u001b[0m\n\u001b[0;32m    395\u001b[0m \u001b[38;5;250m\u001b[39m\u001b[38;5;124;03m\"\"\"\u001b[39;00m\n\u001b[0;32m    396\u001b[0m \u001b[38;5;124;03mSend the quit message and close the socket.\u001b[39;00m\n\u001b[0;32m    397\u001b[0m \n\u001b[1;32m   (...)\u001b[0m\n\u001b[0;32m    401\u001b[0m \u001b[38;5;124;03m:raise Error: If the connection is already closed.\u001b[39;00m\n\u001b[0;32m    402\u001b[0m \u001b[38;5;124;03m\"\"\"\u001b[39;00m\n\u001b[0;32m    403\u001b[0m \u001b[38;5;28;01mif\u001b[39;00m \u001b[38;5;28mself\u001b[39m\u001b[38;5;241m.\u001b[39m_closed:\n\u001b[1;32m--> 404\u001b[0m     \u001b[38;5;28;01mraise\u001b[39;00m err\u001b[38;5;241m.\u001b[39mError(\u001b[38;5;124m\"\u001b[39m\u001b[38;5;124mAlready closed\u001b[39m\u001b[38;5;124m\"\u001b[39m)\n\u001b[0;32m    405\u001b[0m \u001b[38;5;28mself\u001b[39m\u001b[38;5;241m.\u001b[39m_closed \u001b[38;5;241m=\u001b[39m \u001b[38;5;28;01mTrue\u001b[39;00m\n\u001b[0;32m    406\u001b[0m \u001b[38;5;28;01mif\u001b[39;00m \u001b[38;5;28mself\u001b[39m\u001b[38;5;241m.\u001b[39m_sock \u001b[38;5;129;01mis\u001b[39;00m \u001b[38;5;28;01mNone\u001b[39;00m:\n",
      "\u001b[1;31mError\u001b[0m: Already closed"
     ]
    }
   ],
   "source": [
    "cursor.close()\n",
    "conn.close()"
   ]
  },
  {
   "cell_type": "code",
   "execution_count": 4,
   "id": "78407065-0629-4d97-91da-99199189d604",
   "metadata": {},
   "outputs": [
    {
     "name": "stdout",
     "output_type": "stream",
     "text": [
      "-- INSERT INTO Faculty Table\n",
      "Data inserted successfully.\n"
     ]
    }
   ],
   "source": [
    "# Connect to MySQL database\n",
    "conn = pymysql.connect(\n",
    "    host='127.0.0.1',\n",
    "    user='assign1part2',\n",
    "    password='university123',\n",
    "    database='university123'\n",
    ")\n",
    "cursor = conn.cursor()\n",
    "num_faculty = 10\n",
    "\n",
    "# Generate PERSON records\n",
    "print(\"-- INSERT INTO Faculty Table\")\n",
    "\n",
    "# Filter person_ids to only include values between 1 and 100\n",
    "# Fetch valid PersonId values from PERSON that are not in FACULTY\n",
    "cursor.execute(\"\"\"\n",
    "    SELECT PersonId FROM PERSON\n",
    "    WHERE PersonId NOT IN (SELECT FacultyId FROM FACULTY) \n",
    "\"\"\")\n",
    "valid_person_ids = [row[0] for row in cursor.fetchall()]\n",
    "\n",
    "# Generate fake data for Faculty\n",
    "faculty_data = []\n",
    "for _ in range(num_faculty):  # Example: generate 5 faculty entries\n",
    "    person_id = fake.random_element(valid_person_ids)  # Randomly select PersonId in range 1-100\n",
    "    title = fake.random_element(['Professor', 'Associate Professor', 'Assistant Professor'])\n",
    "    office = fake.building_number()  # Generate random office number\n",
    "    phone = fake.phone_number()[:15]  # Generate random phone number\n",
    "    salary = round(fake.random_int(min=40000, max=200000), 2)  # Random salary in valid range\n",
    "\n",
    "    faculty_data.append((person_id, title, office, phone, salary))\n",
    "\n",
    "# Insert generated data into FACULTY table\n",
    "insert_query = \"\"\"\n",
    "    INSERT INTO FACULTY (FacultyId, Title, Foffice, Fphone, Salary)\n",
    "    VALUES (%s, %s, %s, %s, %s)\n",
    "\"\"\"\n",
    "\n",
    "cursor.executemany(insert_query, faculty_data)\n",
    "conn.commit()\n",
    "\n",
    "print(\"Data inserted successfully.\")\n",
    "cursor.close()\n",
    "conn.close()"
   ]
  },
  {
   "cell_type": "code",
   "execution_count": 22,
   "id": "6dddefbb-1a57-47e0-a7fe-1b09ddadf8cb",
   "metadata": {},
   "outputs": [],
   "source": []
  },
  {
   "cell_type": "code",
   "execution_count": 5,
   "id": "41eb5960-56ee-4c5d-99c0-08d7e7dc589c",
   "metadata": {},
   "outputs": [
    {
     "name": "stdout",
     "output_type": "stream",
     "text": [
      "-- INSERT INTO Student Table\n",
      "Data inserted successfully.\n"
     ]
    }
   ],
   "source": [
    "# Connect to MySQL database\n",
    "conn = pymysql.connect(\n",
    "    host='127.0.0.1',\n",
    "    user='assign1part2',\n",
    "    password='university123',\n",
    "    database='university123'\n",
    ")\n",
    "cursor = conn.cursor()\n",
    "num_student = 90\n",
    "\n",
    "# Generate PERSON records\n",
    "print(\"-- INSERT INTO Student Table\")\n",
    "\n",
    "# Fetch all PersonId values from PERSON table\n",
    "cursor.execute(\"SELECT PersonId FROM PERSON\")\n",
    "all_person_ids = [row[0] for row in cursor.fetchall()]\n",
    "\n",
    "# Fetch all FacultyId values from FACULTY table\n",
    "cursor.execute(\"SELECT FacultyId FROM FACULTY\")\n",
    "faculty_ids = [row[0] for row in cursor.fetchall()]\n",
    "\n",
    "# Filter out PersonIds that are already in FACULTY (those are faculty members)\n",
    "valid_person_ids = [pid for pid in all_person_ids if pid not in faculty_ids]\n",
    "\n",
    "# Generate data for Student\n",
    "student_data = []\n",
    "for student_id in valid_person_ids:\n",
    "    class_year = fake.random_int(min=1, max=5)  # Random class (1-5)\n",
    "    student_data.append((student_id, class_year))\n",
    "\n",
    "# Insert generated data into STUDENT table\n",
    "insert_query = \"\"\"\n",
    "    INSERT INTO STUDENT (StudentId, Class)\n",
    "    VALUES (%s, %s)\n",
    "\"\"\"\n",
    "\n",
    "cursor.executemany(insert_query, student_data)\n",
    "conn.commit()\n",
    "\n",
    "print(\"Data inserted successfully.\")\n",
    "cursor.close()\n",
    "conn.close()"
   ]
  },
  {
   "cell_type": "code",
   "execution_count": 6,
   "id": "a5c90241-8aeb-4c61-b4e0-a8a6155ffbdd",
   "metadata": {},
   "outputs": [
    {
     "name": "stdout",
     "output_type": "stream",
     "text": [
      "-- INSERT INTO Grad_Student Table\n",
      "Data inserted successfully.\n"
     ]
    }
   ],
   "source": [
    "# Connect to MySQL database\n",
    "conn = pymysql.connect(\n",
    "    host='127.0.0.1',\n",
    "    user='assign1part2',\n",
    "    password='university123',\n",
    "    database='university123'\n",
    ")\n",
    "cursor = conn.cursor()\n",
    "num_grad_student = 15\n",
    "\n",
    "# Generate PERSON records\n",
    "print(\"-- INSERT INTO Grad_Student Table\")\n",
    "\n",
    "# Fetch all StudentIds where Class = 5 (graduating students)\n",
    "cursor.execute(\"SELECT StudentId FROM STUDENT WHERE Class = 5\")\n",
    "grad_student_ids = [row[0] for row in cursor.fetchall()]\n",
    "\n",
    "# Generate data for Grad_Student table\n",
    "grad_student_data = []\n",
    "for student_id in grad_student_ids:\n",
    "    degree = fake.random_element(elements=('M.Sc.', 'Ph.D.', 'MBA'))  # Random degree\n",
    "    college = fake.company()  # Random college name\n",
    "    year = fake.random_int(min=2020, max=2024)  # Random year (adjust as needed)\n",
    "\n",
    "    grad_student_data.append((student_id, degree, college, year))\n",
    "\n",
    "# Insert generated data into GRAD_STUDENT table\n",
    "insert_query = \"\"\"\n",
    "    INSERT INTO GRAD_STUDENT (Grad_StudentId, Degree, College, Year)\n",
    "    VALUES (%s, %s, %s, %s)\n",
    "\"\"\"\n",
    "\n",
    "cursor.executemany(insert_query, grad_student_data)\n",
    "conn.commit()\n",
    "\n",
    "print(\"Data inserted successfully.\")\n",
    "cursor.close()\n",
    "conn.close()"
   ]
  },
  {
   "cell_type": "code",
   "execution_count": 7,
   "id": "cbc47c05-4595-4a01-8ac7-a4b658af4407",
   "metadata": {},
   "outputs": [
    {
     "name": "stdout",
     "output_type": "stream",
     "text": [
      "-- INSERT INTO Committee Table\n",
      "Inserted data into COMMITTEE table.\n"
     ]
    }
   ],
   "source": [
    "# Connect to MySQL database\n",
    "conn = pymysql.connect(\n",
    "    host='127.0.0.1',\n",
    "    user='assign1part2',\n",
    "    password='university123',\n",
    "    database='university123'\n",
    ")\n",
    "cursor = conn.cursor()\n",
    "num_grad_student = 15\n",
    "\n",
    "# Generate PERSON records\n",
    "print(\"-- INSERT INTO Committee Table\")\n",
    "\n",
    "# Fetch FacultyIds and Grad_StudentIds\n",
    "cursor.execute(\"SELECT FacultyId FROM FACULTY\")\n",
    "faculty_ids = [row[0] for row in cursor.fetchall()]\n",
    "\n",
    "cursor.execute(\"SELECT Grad_StudentId FROM GRAD_STUDENT\")\n",
    "grad_student_ids = [row[0] for row in cursor.fetchall()]\n",
    "\n",
    "# Insert data into COMMITTEE table\n",
    "committee_data = [\n",
    "    (random.choice(faculty_ids), random.choice(grad_student_ids))\n",
    "    for _ in range(10)  # Insert 10 random records\n",
    "]\n",
    "\n",
    "cursor.executemany(\"INSERT INTO COMMITTEE (FacultyId, Grad_StudentId) VALUES (%s, %s)\", committee_data)\n",
    "conn.commit()\n",
    "print(\"Inserted data into COMMITTEE table.\")\n",
    "\n",
    "cursor.close()\n",
    "conn.close()"
   ]
  },
  {
   "cell_type": "code",
   "execution_count": 8,
   "id": "b615e772-ee7b-4c65-8980-7f3a51b065c0",
   "metadata": {},
   "outputs": [
    {
     "name": "stdout",
     "output_type": "stream",
     "text": [
      "-- INSERT INTO Grant_Info Table\n",
      "Inserted data into GRANT_INFO table.\n"
     ]
    }
   ],
   "source": [
    "# Connect to MySQL database\n",
    "conn = pymysql.connect(\n",
    "    host='127.0.0.1',\n",
    "    user='assign1part2',\n",
    "    password='university123',\n",
    "    database='university123'\n",
    ")\n",
    "cursor = conn.cursor()\n",
    "\n",
    "num_grant_info = 5\n",
    "\n",
    "# Generate PERSON records\n",
    "print(\"-- INSERT INTO Grant_Info Table\")\n",
    "\n",
    "# Insert data into GRANT_INFO table\n",
    "grant_data = [\n",
    "    (\n",
    "        random.choice(faculty_ids),\n",
    "        fake.sentence(nb_words=3),  # Random short title\n",
    "        fake.uuid4()[:8],  # Generate a random unique grant number\n",
    "        fake.company(),  # Agency name\n",
    "        fake.date_between(start_date=\"-5y\", end_date=\"today\"),  # Start date within last 5 years\n",
    "        fake.date_between(start_date=\"today\", end_date=\"+5y\")  # End date within next 5 years\n",
    "    )\n",
    "    for _ in range(num_grant_info)  # Insert 5 random grants\n",
    "]\n",
    "\n",
    "cursor.executemany(\n",
    "    \"INSERT INTO GRANT_INFO (PI_FacultyId, Title, GrantNumber, Agency, StartDate, EndDate) VALUES (%s, %s, %s, %s, %s, %s)\",\n",
    "    grant_data\n",
    ")\n",
    "conn.commit()\n",
    "print(\"Inserted data into GRANT_INFO table.\")\n",
    "\n",
    "cursor.close()\n",
    "conn.close()"
   ]
  },
  {
   "cell_type": "code",
   "execution_count": 9,
   "id": "07bcd90c-37d5-47ed-9c3a-ae535944cc0c",
   "metadata": {},
   "outputs": [
    {
     "name": "stdout",
     "output_type": "stream",
     "text": [
      "-- INSERT INTO INSTRUCTOR_RESEARCHER Table\n",
      "Inserted data into INSTRUCTOR_RESEARCHER table.\n"
     ]
    }
   ],
   "source": [
    "# Connect to MySQL database\n",
    "conn = pymysql.connect(\n",
    "    host='127.0.0.1',\n",
    "    user='assign1part2',\n",
    "    password='university123',\n",
    "    database='university123'\n",
    ")\n",
    "cursor = conn.cursor()\n",
    "\n",
    "num_instructor_researcher = 25\n",
    "\n",
    "# Generate PERSON records\n",
    "print(\"-- INSERT INTO INSTRUCTOR_RESEARCHER Table\")\n",
    "\n",
    "# Fetch FacultyIds and Grad_StudentIds\n",
    "cursor.execute(\"SELECT FacultyId FROM FACULTY\")\n",
    "faculty_ids = [row[0] for row in cursor.fetchall()]\n",
    "\n",
    "cursor.execute(\"SELECT Grad_StudentId FROM GRAD_STUDENT\")\n",
    "grad_student_ids = [row[0] for row in cursor.fetchall()]\n",
    "\n",
    "# Insert data into INSTRUCTOR_RESEARCHER table\n",
    "instructor_researcher_data = []\n",
    "for _ in range(num_instructor_researcher):  # Insert 10 random records\n",
    "    if random.choice([True, False]):  # Randomly assign Faculty or Grad_Student\n",
    "        faculty_id = random.choice(faculty_ids)\n",
    "        grad_student_id = None\n",
    "        category = \"Faculty\"\n",
    "    else:\n",
    "        faculty_id = None\n",
    "        grad_student_id = random.choice(grad_student_ids)\n",
    "        category = \"Grad_Student\"\n",
    "\n",
    "    instructor_researcher_data.append((faculty_id, grad_student_id, category))\n",
    "\n",
    "cursor.executemany(\n",
    "    \"INSERT INTO INSTRUCTOR_RESEARCHER (FacultyId, Grad_StudentId, CategoryType) VALUES (%s, %s, %s)\",\n",
    "    instructor_researcher_data\n",
    ")\n",
    "conn.commit()\n",
    "print(\"Inserted data into INSTRUCTOR_RESEARCHER table.\")\n",
    "\n",
    "cursor.close()\n",
    "conn.close()"
   ]
  },
  {
   "cell_type": "code",
   "execution_count": 10,
   "id": "6810c125-7a93-4d40-809b-80bdd8a9922b",
   "metadata": {},
   "outputs": [
    {
     "name": "stdout",
     "output_type": "stream",
     "text": [
      "Data inserted successfully.\n"
     ]
    }
   ],
   "source": [
    "# Connect to MySQL database\n",
    "conn = pymysql.connect(\n",
    "    host='127.0.0.1',\n",
    "    user='assign1part2',\n",
    "    password='university123',\n",
    "    database='university123'\n",
    ")\n",
    "cursor = conn.cursor()\n",
    "\n",
    "### 14. Insert into GRANT_INFO ###\n",
    "grant_data = [(random.choice(faculty_ids), fake.sentence(), fake.uuid4(), fake.company(), fake.date_this_decade(), fake.date_between(start_date='+1y', end_date='+5y')) for _ in range(10)]\n",
    "cursor.executemany(\"INSERT INTO GRANT_INFO (PI_FacultyId, Title, GrantNumber, Agency, StartDate, EndDate) VALUES (%s, %s, %s, %s, %s, %s)\", grant_data)\n",
    "conn.commit()\n",
    "\n",
    "print(\"Data inserted successfully.\")\n",
    "\n",
    "cursor.close()\n",
    "conn.close()"
   ]
  },
  {
   "cell_type": "code",
   "execution_count": 11,
   "id": "95e21356-25ae-4a8f-a22d-bfe7586e1334",
   "metadata": {},
   "outputs": [
    {
     "ename": "IntegrityError",
     "evalue": "(1062, \"Duplicate entry '2-17' for key 'support.PRIMARY'\")",
     "output_type": "error",
     "traceback": [
      "\u001b[1;31m---------------------------------------------------------------------------\u001b[0m",
      "\u001b[1;31mIntegrityError\u001b[0m                            Traceback (most recent call last)",
      "Cell \u001b[1;32mIn[11], line 18\u001b[0m\n\u001b[0;32m     16\u001b[0m \u001b[38;5;66;03m### 15. Insert into SUPPORT ###\u001b[39;00m\n\u001b[0;32m     17\u001b[0m support_data \u001b[38;5;241m=\u001b[39m [(random\u001b[38;5;241m.\u001b[39mchoice(grant_ids), random\u001b[38;5;241m.\u001b[39mchoice(instructor_ids), fake\u001b[38;5;241m.\u001b[39mdate_this_year(), fake\u001b[38;5;241m.\u001b[39mdate_between(start_date\u001b[38;5;241m=\u001b[39m\u001b[38;5;124m'\u001b[39m\u001b[38;5;124m+1y\u001b[39m\u001b[38;5;124m'\u001b[39m, end_date\u001b[38;5;241m=\u001b[39m\u001b[38;5;124m'\u001b[39m\u001b[38;5;124m+3y\u001b[39m\u001b[38;5;124m'\u001b[39m), fake\u001b[38;5;241m.\u001b[39mtime(), fake\u001b[38;5;241m.\u001b[39mtime()) \u001b[38;5;28;01mfor\u001b[39;00m _ \u001b[38;5;129;01min\u001b[39;00m \u001b[38;5;28mrange\u001b[39m(\u001b[38;5;241m10\u001b[39m)]\n\u001b[1;32m---> 18\u001b[0m cursor\u001b[38;5;241m.\u001b[39mexecutemany(\u001b[38;5;124m\"\u001b[39m\u001b[38;5;124mINSERT INTO SUPPORT (GrantID, Instruct_ResearchId, Start_Date, End_Date, Start_Time, End_Time) VALUES (\u001b[39m\u001b[38;5;132;01m%s\u001b[39;00m\u001b[38;5;124m, \u001b[39m\u001b[38;5;132;01m%s\u001b[39;00m\u001b[38;5;124m, \u001b[39m\u001b[38;5;132;01m%s\u001b[39;00m\u001b[38;5;124m, \u001b[39m\u001b[38;5;132;01m%s\u001b[39;00m\u001b[38;5;124m, \u001b[39m\u001b[38;5;132;01m%s\u001b[39;00m\u001b[38;5;124m, \u001b[39m\u001b[38;5;132;01m%s\u001b[39;00m\u001b[38;5;124m)\u001b[39m\u001b[38;5;124m\"\u001b[39m, support_data)\n\u001b[0;32m     19\u001b[0m conn\u001b[38;5;241m.\u001b[39mcommit()\n\u001b[0;32m     21\u001b[0m \u001b[38;5;28mprint\u001b[39m(\u001b[38;5;124m\"\u001b[39m\u001b[38;5;124mData inserted successfully.\u001b[39m\u001b[38;5;124m\"\u001b[39m)\n",
      "File \u001b[1;32mc:\\Users\\jerin\\anaconda3\\envs\\py312\\Lib\\site-packages\\pymysql\\cursors.py:173\u001b[0m, in \u001b[0;36mCursor.executemany\u001b[1;34m(self, query, args)\u001b[0m\n\u001b[0;32m    171\u001b[0m     q_postfix \u001b[38;5;241m=\u001b[39m m\u001b[38;5;241m.\u001b[39mgroup(\u001b[38;5;241m3\u001b[39m) \u001b[38;5;129;01mor\u001b[39;00m \u001b[38;5;124m\"\u001b[39m\u001b[38;5;124m\"\u001b[39m\n\u001b[0;32m    172\u001b[0m     \u001b[38;5;28;01massert\u001b[39;00m q_values[\u001b[38;5;241m0\u001b[39m] \u001b[38;5;241m==\u001b[39m \u001b[38;5;124m\"\u001b[39m\u001b[38;5;124m(\u001b[39m\u001b[38;5;124m\"\u001b[39m \u001b[38;5;129;01mand\u001b[39;00m q_values[\u001b[38;5;241m-\u001b[39m\u001b[38;5;241m1\u001b[39m] \u001b[38;5;241m==\u001b[39m \u001b[38;5;124m\"\u001b[39m\u001b[38;5;124m)\u001b[39m\u001b[38;5;124m\"\u001b[39m\n\u001b[1;32m--> 173\u001b[0m     \u001b[38;5;28;01mreturn\u001b[39;00m \u001b[38;5;28mself\u001b[39m\u001b[38;5;241m.\u001b[39m_do_execute_many(\n\u001b[0;32m    174\u001b[0m         q_prefix,\n\u001b[0;32m    175\u001b[0m         q_values,\n\u001b[0;32m    176\u001b[0m         q_postfix,\n\u001b[0;32m    177\u001b[0m         args,\n\u001b[0;32m    178\u001b[0m         \u001b[38;5;28mself\u001b[39m\u001b[38;5;241m.\u001b[39mmax_stmt_length,\n\u001b[0;32m    179\u001b[0m         \u001b[38;5;28mself\u001b[39m\u001b[38;5;241m.\u001b[39m_get_db()\u001b[38;5;241m.\u001b[39mencoding,\n\u001b[0;32m    180\u001b[0m     )\n\u001b[0;32m    182\u001b[0m \u001b[38;5;28mself\u001b[39m\u001b[38;5;241m.\u001b[39mrowcount \u001b[38;5;241m=\u001b[39m \u001b[38;5;28msum\u001b[39m(\u001b[38;5;28mself\u001b[39m\u001b[38;5;241m.\u001b[39mexecute(query, arg) \u001b[38;5;28;01mfor\u001b[39;00m arg \u001b[38;5;129;01min\u001b[39;00m args)\n\u001b[0;32m    183\u001b[0m \u001b[38;5;28;01mreturn\u001b[39;00m \u001b[38;5;28mself\u001b[39m\u001b[38;5;241m.\u001b[39mrowcount\n",
      "File \u001b[1;32mc:\\Users\\jerin\\anaconda3\\envs\\py312\\Lib\\site-packages\\pymysql\\cursors.py:211\u001b[0m, in \u001b[0;36mCursor._do_execute_many\u001b[1;34m(self, prefix, values, postfix, args, max_stmt_length, encoding)\u001b[0m\n\u001b[0;32m    209\u001b[0m         sql \u001b[38;5;241m+\u001b[39m\u001b[38;5;241m=\u001b[39m \u001b[38;5;124mb\u001b[39m\u001b[38;5;124m\"\u001b[39m\u001b[38;5;124m,\u001b[39m\u001b[38;5;124m\"\u001b[39m\n\u001b[0;32m    210\u001b[0m     sql \u001b[38;5;241m+\u001b[39m\u001b[38;5;241m=\u001b[39m v\n\u001b[1;32m--> 211\u001b[0m rows \u001b[38;5;241m+\u001b[39m\u001b[38;5;241m=\u001b[39m \u001b[38;5;28mself\u001b[39m\u001b[38;5;241m.\u001b[39mexecute(sql \u001b[38;5;241m+\u001b[39m postfix)\n\u001b[0;32m    212\u001b[0m \u001b[38;5;28mself\u001b[39m\u001b[38;5;241m.\u001b[39mrowcount \u001b[38;5;241m=\u001b[39m rows\n\u001b[0;32m    213\u001b[0m \u001b[38;5;28;01mreturn\u001b[39;00m rows\n",
      "File \u001b[1;32mc:\\Users\\jerin\\anaconda3\\envs\\py312\\Lib\\site-packages\\pymysql\\cursors.py:148\u001b[0m, in \u001b[0;36mCursor.execute\u001b[1;34m(self, query, args)\u001b[0m\n\u001b[0;32m    144\u001b[0m     \u001b[38;5;28;01mpass\u001b[39;00m\n\u001b[0;32m    146\u001b[0m query \u001b[38;5;241m=\u001b[39m \u001b[38;5;28mself\u001b[39m\u001b[38;5;241m.\u001b[39mmogrify(query, args)\n\u001b[1;32m--> 148\u001b[0m result \u001b[38;5;241m=\u001b[39m \u001b[38;5;28mself\u001b[39m\u001b[38;5;241m.\u001b[39m_query(query)\n\u001b[0;32m    149\u001b[0m \u001b[38;5;28mself\u001b[39m\u001b[38;5;241m.\u001b[39m_executed \u001b[38;5;241m=\u001b[39m query\n\u001b[0;32m    150\u001b[0m \u001b[38;5;28;01mreturn\u001b[39;00m result\n",
      "File \u001b[1;32mc:\\Users\\jerin\\anaconda3\\envs\\py312\\Lib\\site-packages\\pymysql\\cursors.py:310\u001b[0m, in \u001b[0;36mCursor._query\u001b[1;34m(self, q)\u001b[0m\n\u001b[0;32m    308\u001b[0m \u001b[38;5;28mself\u001b[39m\u001b[38;5;241m.\u001b[39m_last_executed \u001b[38;5;241m=\u001b[39m q\n\u001b[0;32m    309\u001b[0m \u001b[38;5;28mself\u001b[39m\u001b[38;5;241m.\u001b[39m_clear_result()\n\u001b[1;32m--> 310\u001b[0m conn\u001b[38;5;241m.\u001b[39mquery(q)\n\u001b[0;32m    311\u001b[0m \u001b[38;5;28mself\u001b[39m\u001b[38;5;241m.\u001b[39m_do_get_result()\n\u001b[0;32m    312\u001b[0m \u001b[38;5;28;01mreturn\u001b[39;00m \u001b[38;5;28mself\u001b[39m\u001b[38;5;241m.\u001b[39mrowcount\n",
      "File \u001b[1;32mc:\\Users\\jerin\\anaconda3\\envs\\py312\\Lib\\site-packages\\pymysql\\connections.py:548\u001b[0m, in \u001b[0;36mConnection.query\u001b[1;34m(self, sql, unbuffered)\u001b[0m\n\u001b[0;32m    546\u001b[0m     sql \u001b[38;5;241m=\u001b[39m sql\u001b[38;5;241m.\u001b[39mencode(\u001b[38;5;28mself\u001b[39m\u001b[38;5;241m.\u001b[39mencoding, \u001b[38;5;124m\"\u001b[39m\u001b[38;5;124msurrogateescape\u001b[39m\u001b[38;5;124m\"\u001b[39m)\n\u001b[0;32m    547\u001b[0m \u001b[38;5;28mself\u001b[39m\u001b[38;5;241m.\u001b[39m_execute_command(COMMAND\u001b[38;5;241m.\u001b[39mCOM_QUERY, sql)\n\u001b[1;32m--> 548\u001b[0m \u001b[38;5;28mself\u001b[39m\u001b[38;5;241m.\u001b[39m_affected_rows \u001b[38;5;241m=\u001b[39m \u001b[38;5;28mself\u001b[39m\u001b[38;5;241m.\u001b[39m_read_query_result(unbuffered\u001b[38;5;241m=\u001b[39munbuffered)\n\u001b[0;32m    549\u001b[0m \u001b[38;5;28;01mreturn\u001b[39;00m \u001b[38;5;28mself\u001b[39m\u001b[38;5;241m.\u001b[39m_affected_rows\n",
      "File \u001b[1;32mc:\\Users\\jerin\\anaconda3\\envs\\py312\\Lib\\site-packages\\pymysql\\connections.py:775\u001b[0m, in \u001b[0;36mConnection._read_query_result\u001b[1;34m(self, unbuffered)\u001b[0m\n\u001b[0;32m    773\u001b[0m \u001b[38;5;28;01melse\u001b[39;00m:\n\u001b[0;32m    774\u001b[0m     result \u001b[38;5;241m=\u001b[39m MySQLResult(\u001b[38;5;28mself\u001b[39m)\n\u001b[1;32m--> 775\u001b[0m     result\u001b[38;5;241m.\u001b[39mread()\n\u001b[0;32m    776\u001b[0m \u001b[38;5;28mself\u001b[39m\u001b[38;5;241m.\u001b[39m_result \u001b[38;5;241m=\u001b[39m result\n\u001b[0;32m    777\u001b[0m \u001b[38;5;28;01mif\u001b[39;00m result\u001b[38;5;241m.\u001b[39mserver_status \u001b[38;5;129;01mis\u001b[39;00m \u001b[38;5;129;01mnot\u001b[39;00m \u001b[38;5;28;01mNone\u001b[39;00m:\n",
      "File \u001b[1;32mc:\\Users\\jerin\\anaconda3\\envs\\py312\\Lib\\site-packages\\pymysql\\connections.py:1156\u001b[0m, in \u001b[0;36mMySQLResult.read\u001b[1;34m(self)\u001b[0m\n\u001b[0;32m   1154\u001b[0m \u001b[38;5;28;01mdef\u001b[39;00m \u001b[38;5;21mread\u001b[39m(\u001b[38;5;28mself\u001b[39m):\n\u001b[0;32m   1155\u001b[0m     \u001b[38;5;28;01mtry\u001b[39;00m:\n\u001b[1;32m-> 1156\u001b[0m         first_packet \u001b[38;5;241m=\u001b[39m \u001b[38;5;28mself\u001b[39m\u001b[38;5;241m.\u001b[39mconnection\u001b[38;5;241m.\u001b[39m_read_packet()\n\u001b[0;32m   1158\u001b[0m         \u001b[38;5;28;01mif\u001b[39;00m first_packet\u001b[38;5;241m.\u001b[39mis_ok_packet():\n\u001b[0;32m   1159\u001b[0m             \u001b[38;5;28mself\u001b[39m\u001b[38;5;241m.\u001b[39m_read_ok_packet(first_packet)\n",
      "File \u001b[1;32mc:\\Users\\jerin\\anaconda3\\envs\\py312\\Lib\\site-packages\\pymysql\\connections.py:725\u001b[0m, in \u001b[0;36mConnection._read_packet\u001b[1;34m(self, packet_type)\u001b[0m\n\u001b[0;32m    723\u001b[0m     \u001b[38;5;28;01mif\u001b[39;00m \u001b[38;5;28mself\u001b[39m\u001b[38;5;241m.\u001b[39m_result \u001b[38;5;129;01mis\u001b[39;00m \u001b[38;5;129;01mnot\u001b[39;00m \u001b[38;5;28;01mNone\u001b[39;00m \u001b[38;5;129;01mand\u001b[39;00m \u001b[38;5;28mself\u001b[39m\u001b[38;5;241m.\u001b[39m_result\u001b[38;5;241m.\u001b[39munbuffered_active \u001b[38;5;129;01mis\u001b[39;00m \u001b[38;5;28;01mTrue\u001b[39;00m:\n\u001b[0;32m    724\u001b[0m         \u001b[38;5;28mself\u001b[39m\u001b[38;5;241m.\u001b[39m_result\u001b[38;5;241m.\u001b[39munbuffered_active \u001b[38;5;241m=\u001b[39m \u001b[38;5;28;01mFalse\u001b[39;00m\n\u001b[1;32m--> 725\u001b[0m     packet\u001b[38;5;241m.\u001b[39mraise_for_error()\n\u001b[0;32m    726\u001b[0m \u001b[38;5;28;01mreturn\u001b[39;00m packet\n",
      "File \u001b[1;32mc:\\Users\\jerin\\anaconda3\\envs\\py312\\Lib\\site-packages\\pymysql\\protocol.py:221\u001b[0m, in \u001b[0;36mMysqlPacket.raise_for_error\u001b[1;34m(self)\u001b[0m\n\u001b[0;32m    219\u001b[0m \u001b[38;5;28;01mif\u001b[39;00m DEBUG:\n\u001b[0;32m    220\u001b[0m     \u001b[38;5;28mprint\u001b[39m(\u001b[38;5;124m\"\u001b[39m\u001b[38;5;124merrno =\u001b[39m\u001b[38;5;124m\"\u001b[39m, errno)\n\u001b[1;32m--> 221\u001b[0m err\u001b[38;5;241m.\u001b[39mraise_mysql_exception(\u001b[38;5;28mself\u001b[39m\u001b[38;5;241m.\u001b[39m_data)\n",
      "File \u001b[1;32mc:\\Users\\jerin\\anaconda3\\envs\\py312\\Lib\\site-packages\\pymysql\\err.py:143\u001b[0m, in \u001b[0;36mraise_mysql_exception\u001b[1;34m(data)\u001b[0m\n\u001b[0;32m    141\u001b[0m \u001b[38;5;28;01mif\u001b[39;00m errorclass \u001b[38;5;129;01mis\u001b[39;00m \u001b[38;5;28;01mNone\u001b[39;00m:\n\u001b[0;32m    142\u001b[0m     errorclass \u001b[38;5;241m=\u001b[39m InternalError \u001b[38;5;28;01mif\u001b[39;00m errno \u001b[38;5;241m<\u001b[39m \u001b[38;5;241m1000\u001b[39m \u001b[38;5;28;01melse\u001b[39;00m OperationalError\n\u001b[1;32m--> 143\u001b[0m \u001b[38;5;28;01mraise\u001b[39;00m errorclass(errno, errval)\n",
      "\u001b[1;31mIntegrityError\u001b[0m: (1062, \"Duplicate entry '2-17' for key 'support.PRIMARY'\")"
     ]
    }
   ],
   "source": [
    "# Connect to MySQL database\n",
    "conn = pymysql.connect(\n",
    "    host='127.0.0.1',\n",
    "    user='assign1part2',\n",
    "    password='university123',\n",
    "    database='university123'\n",
    ")\n",
    "cursor = conn.cursor()\n",
    "\n",
    "cursor.execute(\"SELECT Instruct_ResearchId FROM INSTRUCTOR_RESEARCHER\")\n",
    "instructor_ids = [row[0] for row in cursor.fetchall()]\n",
    "\n",
    "cursor.execute(\"SELECT GrantID FROM GRANT_INFO\")\n",
    "grant_ids = [row[0] for row in cursor.fetchall()]\n",
    "\n",
    "### 15. Insert into SUPPORT ###\n",
    "support_data = [(random.choice(grant_ids), random.choice(instructor_ids), fake.date_this_year(), fake.date_between(start_date='+1y', end_date='+3y'), fake.time(), fake.time()) for _ in range(10)]\n",
    "cursor.executemany(\"INSERT INTO SUPPORT (GrantID, Instruct_ResearchId, Start_Date, End_Date, Start_Time, End_Time) VALUES (%s, %s, %s, %s, %s, %s)\", support_data)\n",
    "conn.commit()\n",
    "\n",
    "print(\"Data inserted successfully.\")\n",
    "\n",
    "cursor.close()\n",
    "conn.close()"
   ]
  },
  {
   "cell_type": "code",
   "execution_count": 12,
   "id": "a27f950b-a1d1-46e5-bccc-ac42a53e9c7d",
   "metadata": {},
   "outputs": [
    {
     "name": "stdout",
     "output_type": "stream",
     "text": [
      "Data inserted successfully.\n"
     ]
    }
   ],
   "source": [
    "# Connect to MySQL database\n",
    "conn = pymysql.connect(\n",
    "    host='127.0.0.1',\n",
    "    user='assign1part2',\n",
    "    password='university123',\n",
    "    database='university123'\n",
    ")\n",
    "cursor = conn.cursor()\n",
    "\n",
    "### 1. Insert into COLLEGE ###\n",
    "college_data = [(fake.company(), fake.address()[:50], fake.name()) for _ in range(5)]\n",
    "cursor.executemany(\"INSERT INTO COLLEGE (CollegeName, CollegeOffice, Dean) VALUES (%s, %s, %s)\", college_data)\n",
    "conn.commit()\n",
    "\n",
    "print(\"Data inserted successfully.\")\n",
    "\n",
    "cursor.close()\n",
    "conn.close()"
   ]
  },
  {
   "cell_type": "code",
   "execution_count": 13,
   "id": "f5f6895a-3dab-49c8-82ae-e4d0a8b6ce9b",
   "metadata": {},
   "outputs": [
    {
     "name": "stdout",
     "output_type": "stream",
     "text": [
      "Data inserted successfully.\n"
     ]
    }
   ],
   "source": [
    "# Connect to MySQL database\n",
    "conn = pymysql.connect(\n",
    "    host='127.0.0.1',\n",
    "    user='assign1part2',\n",
    "    password='university123',\n",
    "    database='university123'\n",
    ")\n",
    "cursor = conn.cursor()\n",
    "\n",
    "cursor.execute(\"SELECT CollegeId FROM COLLEGE\")\n",
    "college_ids = [row[0] for row in cursor.fetchall()]\n",
    "\n",
    "### 2. Insert into DEPARTMENT ###\n",
    "dept_data = [(random.choice(college_ids), fake.word(), fake.phone_number()[:20], fake.address()[:50]) for _ in range(10)]\n",
    "cursor.executemany(\"INSERT INTO DEPARTMENT (CollegeId, DeptName, DeptPhone, DeptOffice) VALUES (%s, %s, %s, %s)\", dept_data)\n",
    "conn.commit()\n",
    "\n",
    "print(\"Data inserted successfully.\")\n",
    "\n",
    "cursor.close()\n",
    "conn.close()"
   ]
  },
  {
   "cell_type": "code",
   "execution_count": 14,
   "id": "2eddd41a-5962-4e42-9514-3b251e71f54c",
   "metadata": {},
   "outputs": [
    {
     "name": "stdout",
     "output_type": "stream",
     "text": [
      "Data inserted successfully.\n"
     ]
    }
   ],
   "source": [
    "# Connect to MySQL database\n",
    "conn = pymysql.connect(\n",
    "    host='127.0.0.1',\n",
    "    user='assign1part2',\n",
    "    password='university123',\n",
    "    database='university123'\n",
    ")\n",
    "cursor = conn.cursor()\n",
    "\n",
    "cursor.execute(\"SELECT DeptID FROM DEPARTMENT\")\n",
    "dept_ids = [row[0] for row in cursor.fetchall()]\n",
    "\n",
    "### 3. Insert into COURSE ###\n",
    "course_data = [(random.choice(dept_ids), fake.unique.word().upper(), fake.sentence(), fake.paragraph()) for _ in range(20)]\n",
    "cursor.executemany(\"INSERT INTO COURSE (DeptID, CNum, CName, CDesc) VALUES (%s, %s, %s, %s)\", course_data)\n",
    "conn.commit()\n",
    "\n",
    "print(\"Data inserted successfully.\")\n",
    "\n",
    "cursor.close()\n",
    "conn.close()"
   ]
  },
  {
   "cell_type": "code",
   "execution_count": 15,
   "id": "a325ac06-cd38-448d-8204-abd84df1569d",
   "metadata": {},
   "outputs": [
    {
     "name": "stdout",
     "output_type": "stream",
     "text": [
      "Data inserted successfully.\n"
     ]
    }
   ],
   "source": [
    "# Connect to MySQL database\n",
    "conn = pymysql.connect(\n",
    "    host='127.0.0.1',\n",
    "    user='assign1part2',\n",
    "    password='university123',\n",
    "    database='university123'\n",
    ")\n",
    "cursor = conn.cursor()\n",
    "\n",
    "cursor.execute(\"SELECT CourseID FROM COURSE\")\n",
    "course_ids = [row[0] for row in cursor.fetchall()]\n",
    "\n",
    "cursor.execute(\"SELECT Instruct_ResearchId FROM INSTRUCTOR_RESEARCHER\")\n",
    "instructor_ids = [row[0] for row in cursor.fetchall()]\n",
    "\n",
    "### 7. Insert into SECTION ###\n",
    "section_data = [(random.choice(course_ids), random.choice(instructor_ids), fake.random_int(min=1, max=5), fake.random_int(min=2020, max=2025), fake.random_element(elements=['Fall', 'Winter', 'Spring', 'Summer'])) for _ in range(20)]\n",
    "cursor.executemany(\"INSERT INTO SECTION (CourseID, Instruct_ResearchId, SecNumber, Year, Qtr) VALUES (%s, %s, %s, %s, %s)\", section_data)\n",
    "conn.commit()\n",
    "\n",
    "print(\"Data inserted successfully.\")\n",
    "\n",
    "cursor.close()\n",
    "conn.close()"
   ]
  },
  {
   "cell_type": "code",
   "execution_count": 16,
   "id": "c007241f-b9d8-4946-a41f-967f11e0ce8e",
   "metadata": {},
   "outputs": [
    {
     "name": "stdout",
     "output_type": "stream",
     "text": [
      "Data inserted successfully.\n"
     ]
    }
   ],
   "source": [
    "# Connect to MySQL database\n",
    "conn = pymysql.connect(\n",
    "    host='127.0.0.1',\n",
    "    user='assign1part2',\n",
    "    password='university123',\n",
    "    database='university123'\n",
    ")\n",
    "cursor = conn.cursor()\n",
    "\n",
    "cursor.execute(\"SELECT SectionID FROM SECTION\")\n",
    "section_ids = [row[0] for row in cursor.fetchall()]\n",
    "\n",
    "### 8. Insert into CURRENT_SECTION ###\n",
    "current_section_data = [(random.choice(section_ids), \"Spring\", 2024) for _ in range(5)]\n",
    "cursor.executemany(\"INSERT INTO CURRENT_SECTION (SectionID, CurrentQtr, CurrentYear) VALUES (%s, %s, %s)\", current_section_data)\n",
    "conn.commit()\n",
    "\n",
    "print(\"Data inserted successfully.\")\n",
    "\n",
    "cursor.close()\n",
    "conn.close()"
   ]
  },
  {
   "cell_type": "code",
   "execution_count": 17,
   "id": "8a6a7607-14ba-49e6-ada3-9d46acf4d816",
   "metadata": {},
   "outputs": [
    {
     "name": "stdout",
     "output_type": "stream",
     "text": [
      "Data inserted successfully.\n"
     ]
    }
   ],
   "source": [
    "# Connect to MySQL database\n",
    "conn = pymysql.connect(\n",
    "    host='127.0.0.1',\n",
    "    user='assign1part2',\n",
    "    password='university123',\n",
    "    database='university123'\n",
    ")\n",
    "cursor = conn.cursor()\n",
    "\n",
    "cursor.execute(\"SELECT StudentID FROM STUDENT\")\n",
    "student_ids = [row[0] for row in cursor.fetchall()]\n",
    "\n",
    "### 10. Insert into REGISTERED ###\n",
    "registered_data = [(random.choice(student_ids), random.choice(section_ids)) for _ in range(30)]\n",
    "cursor.executemany(\"INSERT INTO REGISTERED (StudentID, SectionID) VALUES (%s, %s)\", registered_data)\n",
    "conn.commit()\n",
    "\n",
    "### 11. Insert into TRANSCRIPT ###\n",
    "grades = ['A', 'B', 'C', 'D', 'F', 'P', 'NP']\n",
    "transcript_data = [(random.choice(student_ids), random.choice(section_ids), random.choice(grades)) for _ in range(30)]\n",
    "cursor.executemany(\"INSERT INTO TRANSCRIPT (StudentID, SectionID, Grade) VALUES (%s, %s, %s)\", transcript_data)\n",
    "conn.commit()\n",
    "\n",
    "### 12. Insert into MAJORMINOR ###\n",
    "major_minor_data = [(random.choice(student_ids), random.choice(dept_ids), random.choice(['Major', 'Minor'])) for _ in range(20)]\n",
    "cursor.executemany(\"INSERT INTO MAJORMINOR (StudentID, DeptId, Category) VALUES (%s, %s, %s)\", major_minor_data)\n",
    "conn.commit()\n",
    "print(\"Data inserted successfully.\")\n",
    "\n",
    "cursor.close()\n",
    "conn.close()"
   ]
  },
  {
   "cell_type": "code",
   "execution_count": 18,
   "id": "1b0d8ad9-3853-4980-9b8c-d771e655c7e0",
   "metadata": {},
   "outputs": [
    {
     "name": "stdout",
     "output_type": "stream",
     "text": [
      "Data inserted successfully.\n"
     ]
    }
   ],
   "source": [
    "# Connect to MySQL database\n",
    "conn = pymysql.connect(\n",
    "    host='127.0.0.1',\n",
    "    user='assign1part2',\n",
    "    password='university123',\n",
    "    database='university123'\n",
    ")\n",
    "cursor = conn.cursor()\n",
    "\n",
    "cursor.execute(\"SELECT FacultyId FROM FACULTY\")\n",
    "faculty_ids = [row[0] for row in cursor.fetchall()]\n",
    "\n",
    "### 13. Insert into BELONGS ###\n",
    "belongs_data = [(random.choice(faculty_ids), random.choice(dept_ids)) for _ in range(10)]\n",
    "cursor.executemany(\"INSERT INTO BELONGS (FacultyId, DeptID) VALUES (%s, %s)\", belongs_data)\n",
    "conn.commit()\n",
    "\n",
    "print(\"Data inserted successfully.\")\n",
    "\n",
    "cursor.close()\n",
    "conn.close()"
   ]
  },
  {
   "cell_type": "code",
   "execution_count": null,
   "id": "7393442d-23b8-43d5-82a1-ac630c47f5d8",
   "metadata": {},
   "outputs": [],
   "source": []
  }
 ],
 "metadata": {
  "kernelspec": {
   "display_name": "py312",
   "language": "python",
   "name": "python3"
  },
  "language_info": {
   "codemirror_mode": {
    "name": "ipython",
    "version": 3
   },
   "file_extension": ".py",
   "mimetype": "text/x-python",
   "name": "python",
   "nbconvert_exporter": "python",
   "pygments_lexer": "ipython3",
   "version": "3.12.9"
  }
 },
 "nbformat": 4,
 "nbformat_minor": 5
}
